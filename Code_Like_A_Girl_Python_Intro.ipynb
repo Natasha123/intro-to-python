{
 "cells": [
  {
   "cell_type": "markdown",
   "metadata": {},
   "source": [
    "# Code Like a Girl - Introduction to Python\n"
   ]
  },
  {
   "cell_type": "markdown",
   "metadata": {},
   "source": [
    "### What we'll cover today\n",
    "* Values, Variables and Types\n",
    "* Operators\n",
    "* Functions\n",
    "* Keywords and syntax\n",
    "* Objects and methods \n",
    "* Input and output\n",
    "* Control structures\n",
    "\n",
    "#### Hot tips for getting started using jupyter notebook:\n",
    "* Use shift + enter on your keyboard to execute a cell\n",
    "* There are two modes: 'edit' mode (when the cell is green), and 'command' mode (when the cell is blue). When you are writing your code you want to be in the green edit mode - you can switch between the two using the ```esc``` button. \n",
    "* Insert a new cell below the one you are in using the + icon up the top\n",
    "* There are lots of command shortcuts which can make your life easier, you can read all about them in the documentation [here](http://jupyter-notebook.readthedocs.io/en/stable/examples/Notebook/Notebook%20Basics.html)\n",
    "* If you get stuck, use your mouse to click anywhere outside the cell area - it's all good!\n",
    "\n",
    "## Let's get stuck in! Quick, type your first line of code:\n",
    "\n",
    "```print('Hello, World!') ```"
   ]
  },
  {
   "cell_type": "code",
   "execution_count": null,
   "metadata": {
    "collapsed": true
   },
   "outputs": [],
   "source": []
  },
  {
   "cell_type": "markdown",
   "metadata": {},
   "source": [
    "Well done! You just joined a rich history of coders! \n",
    "\n",
    "`print()` is what is called a **function** - we'll get to those later. \n",
    "For now, let's focus on 'Hello, World!'. That is a string, and a string is a datatype! "
   ]
  },
  {
   "cell_type": "markdown",
   "metadata": {},
   "source": [
    "### Values, Variables and Types\n",
    "\n",
    "Values in programming represent the 'things' or data we are dealing with. \n",
    "\n",
    "The word *variable* in programming describes a place to store information. Another way to think about variables is as a *name* or a *label* for the value. \n",
    "\n",
    "Values have *types*. The datatype of a value will determine what you can and can't do with it. \n",
    "\n",
    "All the data you will work with in Python has a **type**. You can check the datatype using the `type()` function. \n",
    "\n",
    "Here are some importat datatypes for you to know:\n",
    "* **String** - Text. Think of it as a string of characters! You can create strings by putting quote marks around it. \n",
    "* **Integer** - A whole number, e.g. 4 or 6\n",
    "* **Float** - A number with a decimal, e.g. 6.7, 3.14 \n",
    "\n",
    "In Python, you define a variable with the '=' operator. Run this code as an example:"
   ]
  },
  {
   "cell_type": "code",
   "execution_count": null,
   "metadata": {
    "collapsed": true
   },
   "outputs": [],
   "source": [
    "name = 'Jessica Jones'\n",
    "print(name)"
   ]
  },
  {
   "cell_type": "markdown",
   "metadata": {},
   "source": [
    "You can check the datatype of a variable by using the `type()` fuction:"
   ]
  },
  {
   "cell_type": "code",
   "execution_count": null,
   "metadata": {
    "collapsed": true
   },
   "outputs": [],
   "source": [
    "type(name)"
   ]
  },
  {
   "cell_type": "markdown",
   "metadata": {},
   "source": [
    "### Your turn! \n",
    "##### Exercise 1\n",
    "Define a variable `my_name` with your name as a string, and another variable `age` with your age as an integer. Then try displaying them using the `print()` function."
   ]
  },
  {
   "cell_type": "markdown",
   "metadata": {},
   "source": [
    "name = \"Alicia\""
   ]
  },
  {
   "cell_type": "markdown",
   "metadata": {},
   "source": [
    "print(name)"
   ]
  },
  {
   "cell_type": "code",
   "execution_count": null,
   "metadata": {},
   "outputs": [],
   "source": []
  },
  {
   "cell_type": "code",
   "execution_count": null,
   "metadata": {
    "collapsed": true
   },
   "outputs": [],
   "source": []
  },
  {
   "cell_type": "markdown",
   "metadata": {},
   "source": [
    "Bonus: have a go at this snippet: \n",
    "\n",
    "`print('My name is ', my_name, \" and my age is ', age)` \n",
    "\n",
    "Here you are using the `print()` function to combine strings with your own defined variables."
   ]
  },
  {
   "cell_type": "code",
   "execution_count": null,
   "metadata": {
    "collapsed": true
   },
   "outputs": [],
   "source": []
  },
  {
   "cell_type": "markdown",
   "metadata": {},
   "source": [
    "**Some other important datatypes are:**\n",
    "* Lists - e.g. `['apples', 'pears', 'cheese', 'wine']`\n",
    "* Tuple - e.g. `(1, 2)`\n",
    "* What else??\n",
    "\n",
    "###### Exercise 2\n",
    "1) Define a variable called `fave_foods` as a list with your own values.\n",
    "\n",
    "2) Ask the people around you what their favourite number is and create a list called `table_numbers` "
   ]
  },
  {
   "cell_type": "code",
   "execution_count": 2,
   "metadata": {
    "collapsed": true
   },
   "outputs": [],
   "source": [
    "fave_foods = ['banana', 'chocolate', 'chippies', 'cheese']"
   ]
  },
  {
   "cell_type": "code",
   "execution_count": 3,
   "metadata": {
    "collapsed": true
   },
   "outputs": [],
   "source": [
    "table_numbers = [8,12,4,11,3]"
   ]
  },
  {
   "cell_type": "markdown",
   "metadata": {},
   "source": [
    "Now try using the `type()` function on each of your variables. \n",
    "\n",
    "Do you expect `favourite_foods` to have the same type as `table_numbers`? Do they? Have a chat with your neighbour about what's happening here.\n",
    "\n",
    "**More Types?!** \n",
    "There are more types than what we've covered here! Check out the [Python Documentation](https://docs.python.org/2/library/datatypes.html) for more! "
   ]
  },
  {
   "cell_type": "code",
   "execution_count": 6,
   "metadata": {},
   "outputs": [
    {
     "data": {
      "text/plain": [
       "list"
      ]
     },
     "execution_count": 6,
     "metadata": {},
     "output_type": "execute_result"
    }
   ],
   "source": [
    "type(fave_foods)"
   ]
  },
  {
   "cell_type": "code",
   "execution_count": 7,
   "metadata": {},
   "outputs": [
    {
     "data": {
      "text/plain": [
       "list"
      ]
     },
     "execution_count": 7,
     "metadata": {},
     "output_type": "execute_result"
    }
   ],
   "source": [
    "type(table_numbers)"
   ]
  },
  {
   "cell_type": "markdown",
   "metadata": {},
   "source": [
    "### Operators \n",
    "\n",
    "You can use Python to do addition, subtraction, multiplication and division (among many other mathematical equations!)\n",
    "\n",
    "* Addition: `+` \n",
    "* Subtraction: `-`\n",
    "* Multiplication: `*`\n",
    "* Division: `/`\n",
    "\n",
    "Remember that the order of operations you learnt in maths in school still apply here. \n",
    "\n",
    "For example: \n",
    "`(5+2)*10=70`  but  `5+2*10=25`\n",
    "\n",
    "Have a go at some basic math using the above operators!"
   ]
  },
  {
   "cell_type": "code",
   "execution_count": 8,
   "metadata": {
    "collapsed": true
   },
   "outputs": [],
   "source": [
    "result = 3+3"
   ]
  },
  {
   "cell_type": "code",
   "execution_count": 9,
   "metadata": {},
   "outputs": [
    {
     "name": "stdout",
     "output_type": "stream",
     "text": [
      "6\n"
     ]
    }
   ],
   "source": [
    "print(result)"
   ]
  },
  {
   "cell_type": "code",
   "execution_count": 10,
   "metadata": {
    "collapsed": true
   },
   "outputs": [],
   "source": [
    "a = 1\n",
    "b = 3\n",
    "result = a + b "
   ]
  },
  {
   "cell_type": "code",
   "execution_count": 11,
   "metadata": {},
   "outputs": [
    {
     "name": "stdout",
     "output_type": "stream",
     "text": [
      "4\n"
     ]
    }
   ],
   "source": [
    "print(result)"
   ]
  },
  {
   "cell_type": "code",
   "execution_count": null,
   "metadata": {
    "collapsed": true
   },
   "outputs": [],
   "source": []
  },
  {
   "cell_type": "markdown",
   "metadata": {},
   "source": [
    "###### Exercise 3\n",
    "You can also use the '+' operator on other data types! Explore adding the variables you defined earlier. \n",
    "\n",
    "1) Try adding `my_name + age`, what happens? What if you try `my_name + my_name` or `age + age`?\n",
    "\n",
    "Have a chat with the person next to you about what you've observed - what do you think might be going on here?\n",
    "\n",
    "2) Try other data types! What can be added together? Strings? Lists? What can't be added together? \n"
   ]
  },
  {
   "cell_type": "code",
   "execution_count": null,
   "metadata": {
    "collapsed": true
   },
   "outputs": [],
   "source": []
  },
  {
   "cell_type": "code",
   "execution_count": null,
   "metadata": {
    "collapsed": true
   },
   "outputs": [],
   "source": []
  },
  {
   "cell_type": "markdown",
   "metadata": {},
   "source": [
    "** More Operators!** \n",
    "We can also use *relational* operators:\n",
    "\n",
    "* `==` - equal to\n",
    "* `!=` - not equal to\n",
    "* `>` - greater than\n",
    "* `<` - less than\n",
    "* `>=` - greater than or equal to\n",
    "* `<=` - less than or equal to\n",
    "\n",
    "Why might this be useful?\n",
    "\n",
    "Try: \n",
    "```\n",
    "5==7\n",
    "'test'=='test'\n",
    "'test'>'test'\n",
    "```\n",
    "\n",
    "What happens when you compare What does Python return if you compare `favourite_foods` with `table_numbers`?\n"
   ]
  },
  {
   "cell_type": "code",
   "execution_count": 19,
   "metadata": {},
   "outputs": [
    {
     "data": {
      "text/plain": [
       "True"
      ]
     },
     "execution_count": 19,
     "metadata": {},
     "output_type": "execute_result"
    }
   ],
   "source": [
    "name == name "
   ]
  },
  {
   "cell_type": "code",
   "execution_count": 20,
   "metadata": {
    "collapsed": true
   },
   "outputs": [],
   "source": [
    "my_variable = name == name"
   ]
  },
  {
   "cell_type": "code",
   "execution_count": 21,
   "metadata": {},
   "outputs": [
    {
     "data": {
      "text/plain": [
       "bool"
      ]
     },
     "execution_count": 21,
     "metadata": {},
     "output_type": "execute_result"
    }
   ],
   "source": [
    "type(my_variable)"
   ]
  },
  {
   "cell_type": "markdown",
   "metadata": {},
   "source": [
    "You can also assign this comparsion to a variable itself! Run the example below to see what happens when you check the datatype of this new variable - what is going on here?"
   ]
  },
  {
   "cell_type": "code",
   "execution_count": 4,
   "metadata": {},
   "outputs": [
    {
     "data": {
      "text/plain": [
       "type"
      ]
     },
     "execution_count": 4,
     "metadata": {},
     "output_type": "execute_result"
    }
   ],
   "source": [
    "my_variable = (bool)\n",
    "type(my_variable)"
   ]
  },
  {
   "cell_type": "code",
   "execution_count": null,
   "metadata": {
    "collapsed": true
   },
   "outputs": [],
   "source": []
  },
  {
   "cell_type": "markdown",
   "metadata": {},
   "source": [
    "We also have *logical operators* which are useful when combining with relational operators (above) to create more complex logical statements. \n",
    "\n",
    "```\n",
    "and\n",
    "or\n",
    "not\n",
    "```\n",
    "\n",
    "Run the code below as an example - what do you notice about what Python returns?"
   ]
  },
  {
   "cell_type": "code",
   "execution_count": 22,
   "metadata": {},
   "outputs": [
    {
     "name": "stdout",
     "output_type": "stream",
     "text": [
      "True\n",
      "False\n",
      "True\n"
     ]
    }
   ],
   "source": [
    "a = 10 \n",
    "b = 5 \n",
    "\n",
    "print((10 > 5) and (5 + 5 == 10)) \n",
    "print((b > a) and (b + b == a))\n",
    "print((a > b) or (a < b)) \n"
   ]
  },
  {
   "cell_type": "code",
   "execution_count": null,
   "metadata": {
    "collapsed": true
   },
   "outputs": [],
   "source": []
  },
  {
   "cell_type": "markdown",
   "metadata": {},
   "source": [
    "### Functions\n",
    "\n",
    "As well as operators, you can use function to perform actions on values and variables with defined values. \n",
    "\n",
    "You can *call* a function by writing:\n",
    "\n",
    "`function_name(argument_1, argument_2, ...)` \n",
    "\n",
    "The *argument* is the input to the function.\n",
    "\n",
    "You've already used a function today, remember: `print('Hello, World!')`? What is the function here? What is the argument?"
   ]
  },
  {
   "cell_type": "code",
   "execution_count": null,
   "metadata": {
    "collapsed": true
   },
   "outputs": [],
   "source": []
  },
  {
   "cell_type": "markdown",
   "metadata": {},
   "source": [
    "###### Exercise 4\n",
    "\n",
    "1) Use the'sum' and 'min' functions on `table_numbers`, what do these do?\n",
    "\n",
    "2) What is the maximum table number? Can you guess which function might tell us that?\n",
    "\n",
    "Bonus - use the [Python Documentation](https://docs.python.org/3/library/functions.html) to find a function that will tell you the length of a variable and have a go using it on variables that hold values of different datatypes. What is this function doing?"
   ]
  },
  {
   "cell_type": "code",
   "execution_count": 23,
   "metadata": {},
   "outputs": [
    {
     "data": {
      "text/plain": [
       "38"
      ]
     },
     "execution_count": 23,
     "metadata": {},
     "output_type": "execute_result"
    }
   ],
   "source": [
    "sum(table_numbers)"
   ]
  },
  {
   "cell_type": "code",
   "execution_count": 24,
   "metadata": {
    "scrolled": true
   },
   "outputs": [
    {
     "data": {
      "text/plain": [
       "12"
      ]
     },
     "execution_count": 24,
     "metadata": {},
     "output_type": "execute_result"
    }
   ],
   "source": [
    "max(table_numbers)"
   ]
  },
  {
   "cell_type": "code",
   "execution_count": 25,
   "metadata": {},
   "outputs": [
    {
     "data": {
      "text/plain": [
       "3"
      ]
     },
     "execution_count": 25,
     "metadata": {},
     "output_type": "execute_result"
    }
   ],
   "source": [
    "min(table_numbers)"
   ]
  },
  {
   "cell_type": "markdown",
   "metadata": {},
   "source": [
    "### Keywords and Syntax\n",
    "\n",
    "Moving forward we will see **keywords**. These are special words that Python uses to determine how a program is structured. Here's a [list](https://www.programiz.com/python-programming/keyword-list) if you're interested!\n",
    "\n",
    "The structure of a program is referred to as **syntax**. It means the order and arangement of words, symbols and everything in a program."
   ]
  },
  {
   "cell_type": "code",
   "execution_count": null,
   "metadata": {
    "collapsed": true
   },
   "outputs": [],
   "source": []
  },
  {
   "cell_type": "markdown",
   "metadata": {},
   "source": [
    "## Objects and methods\n",
    "\n",
    "Python is thought of as an 'Object-oriented programming language'. An 'object' is a way of representing something in the world in your program. For example, maybe you'd like to represent:\n",
    "* Houses\n",
    "* Your friends \n",
    "* Words\n",
    "* Places you've been \n",
    "\n",
    "If you're interested in a deeper look at objects and classes, take a look at [this](https://www.digitalocean.com/community/tutorials/how-to-construct-classes-and-define-objects-in-python-3) \n",
    "and [this](https://en.wikibooks.org/wiki/A_Beginner%27s_Python_Tutorial/Classes).\n",
    "\n",
    "Consider the following string:\n",
    "\n",
    "`friends = \"Ross, Chandler, Joey, Phoebe, Rachel, Monica\"`\n",
    "\n",
    "We'd like to count the number of friends in this string. How could we do this? One solution would be to split the string into a list, and then count the elements in that list.\n",
    "\n",
    "You can use the **split** method here. In this case, the split *method* is similar to a function except that it is defined *on* the string itself: \n",
    "\n",
    "`friends_list = friends.split(',')`\n",
    "\n",
    "###### Exercise 5\n",
    "\n",
    "1) Use the code above to split the list of friends (you can use your own friends names!), and then count the number of friends in the list. \n",
    "\n",
    "2) Try using the 'replace' function on a string\n",
    "\n",
    "4) Try the 'upper' and 'lower' functions on strings \n",
    "\n",
    "Bonus! Use the 'join' function on a string to go from `friends_list` variable back to the string where the friends are separated by commas. Challenge: Can you do this in one line of code?"
   ]
  },
  {
   "cell_type": "code",
   "execution_count": 26,
   "metadata": {
    "collapsed": true
   },
   "outputs": [],
   "source": [
    "friends = \"ross, chandler, joey, phoebe, rachel, monica\""
   ]
  },
  {
   "cell_type": "code",
   "execution_count": 27,
   "metadata": {},
   "outputs": [
    {
     "name": "stdout",
     "output_type": "stream",
     "text": [
      "ross, chandler, joey, phoebe, rachel, monica\n"
     ]
    }
   ],
   "source": [
    "print(friends)"
   ]
  },
  {
   "cell_type": "code",
   "execution_count": 28,
   "metadata": {},
   "outputs": [
    {
     "data": {
      "text/plain": [
       "['ross', ' chandler', ' joey', ' phoebe', ' rachel', ' monica']"
      ]
     },
     "execution_count": 28,
     "metadata": {},
     "output_type": "execute_result"
    }
   ],
   "source": [
    "friends.split(',')"
   ]
  },
  {
   "cell_type": "code",
   "execution_count": 29,
   "metadata": {
    "collapsed": true
   },
   "outputs": [],
   "source": [
    "friends = friends.split(',')"
   ]
  },
  {
   "cell_type": "code",
   "execution_count": 32,
   "metadata": {},
   "outputs": [
    {
     "name": "stdout",
     "output_type": "stream",
     "text": [
      "ross, chandler, joey, phoebe, rachel, monica\n"
     ]
    }
   ],
   "source": [
    "print(friends)"
   ]
  },
  {
   "cell_type": "code",
   "execution_count": 44,
   "metadata": {},
   "outputs": [
    {
     "ename": "NameError",
     "evalue": "name 'sub' is not defined",
     "output_type": "error",
     "traceback": [
      "\u001b[1;31m---------------------------------------------------------------------------\u001b[0m",
      "\u001b[1;31mNameError\u001b[0m                                 Traceback (most recent call last)",
      "\u001b[1;32m<ipython-input-44-35127335c22f>\u001b[0m in \u001b[0;36m<module>\u001b[1;34m()\u001b[0m\n\u001b[1;32m----> 1\u001b[1;33m \u001b[0mfriends\u001b[0m\u001b[1;33m.\u001b[0m\u001b[0mcount\u001b[0m\u001b[1;33m(\u001b[0m\u001b[0msub\u001b[0m\u001b[1;33m)\u001b[0m\u001b[1;33m\u001b[0m\u001b[0m\n\u001b[0m",
      "\u001b[1;31mNameError\u001b[0m: name 'sub' is not defined"
     ]
    }
   ],
   "source": [
    "friends.count(sub)"
   ]
  },
  {
   "cell_type": "code",
   "execution_count": 39,
   "metadata": {},
   "outputs": [
    {
     "data": {
      "text/plain": [
       "'daizee, chandler, joey, phoebe, rachel, monica'"
      ]
     },
     "execution_count": 39,
     "metadata": {},
     "output_type": "execute_result"
    }
   ],
   "source": [
    "friends.replace('ross','daizee')"
   ]
  },
  {
   "cell_type": "code",
   "execution_count": 40,
   "metadata": {},
   "outputs": [
    {
     "data": {
      "text/plain": [
       "'ROSS, CHANDLER, JOEY, PHOEBE, RACHEL, MONICA'"
      ]
     },
     "execution_count": 40,
     "metadata": {},
     "output_type": "execute_result"
    }
   ],
   "source": [
    "friends.upper()"
   ]
  },
  {
   "cell_type": "code",
   "execution_count": 51,
   "metadata": {},
   "outputs": [
    {
     "data": {
      "text/plain": [
       "True"
      ]
     },
     "execution_count": 51,
     "metadata": {},
     "output_type": "execute_result"
    }
   ],
   "source": [
    "friends.endswith(\"a\")"
   ]
  },
  {
   "cell_type": "code",
   "execution_count": 62,
   "metadata": {},
   "outputs": [
    {
     "data": {
      "text/plain": [
       "6"
      ]
     },
     "execution_count": 62,
     "metadata": {},
     "output_type": "execute_result"
    }
   ],
   "source": [
    "friends.index(\"chandler\")"
   ]
  },
  {
   "cell_type": "code",
   "execution_count": 66,
   "metadata": {},
   "outputs": [
    {
     "data": {
      "text/plain": [
       "'r,o,s,s,,, ,c,h,a,n,d,l,e,r,,, ,j,o,e,y,,, ,p,h,o,e,b,e,,, ,r,a,c,h,e,l,,, ,m,o,n,i,c,a'"
      ]
     },
     "execution_count": 66,
     "metadata": {},
     "output_type": "execute_result"
    }
   ],
   "source": [
    "','.join(friends)"
   ]
  },
  {
   "cell_type": "code",
   "execution_count": 67,
   "metadata": {},
   "outputs": [
    {
     "name": "stdout",
     "output_type": "stream",
     "text": [
      "ross, chandler, joey, phoebe, rachel, monica\n"
     ]
    }
   ],
   "source": [
    "print(friends)"
   ]
  },
  {
   "cell_type": "code",
   "execution_count": null,
   "metadata": {
    "collapsed": true
   },
   "outputs": [],
   "source": []
  },
  {
   "cell_type": "markdown",
   "metadata": {},
   "source": [
    "Got time? Here are a few more string methods to try! Check out the section 4.7.1 of the [Python Documentation](https://docs.python.org/3/library/stdtypes.html) for details! \n",
    "\n",
    "``` \n",
    "str.endswith(suffix)\n",
    "str.index(sub)\n",
    "str.isalpha()\n",
    "str.count(sub)\n",
    "str.upper()\n",
    "str.lower()\n",
    "str.replace(old, new)\n",
    "```\n"
   ]
  },
  {
   "cell_type": "code",
   "execution_count": 65,
   "metadata": {},
   "outputs": [
    {
     "ename": "NameError",
     "evalue": "name 'friends_list' is not defined",
     "output_type": "error",
     "traceback": [
      "\u001b[1;31m---------------------------------------------------------------------------\u001b[0m",
      "\u001b[1;31mNameError\u001b[0m                                 Traceback (most recent call last)",
      "\u001b[1;32m<ipython-input-65-4d8d70e7748e>\u001b[0m in \u001b[0;36m<module>\u001b[1;34m()\u001b[0m\n\u001b[1;32m----> 1\u001b[1;33m \u001b[0mprint\u001b[0m\u001b[1;33m(\u001b[0m\u001b[0mfriends_list\u001b[0m\u001b[1;33m)\u001b[0m\u001b[1;33m\u001b[0m\u001b[0m\n\u001b[0m",
      "\u001b[1;31mNameError\u001b[0m: name 'friends_list' is not defined"
     ]
    }
   ],
   "source": [
    "print(friends_list)"
   ]
  },
  {
   "cell_type": "code",
   "execution_count": null,
   "metadata": {
    "collapsed": true
   },
   "outputs": [],
   "source": []
  },
  {
   "cell_type": "code",
   "execution_count": null,
   "metadata": {
    "collapsed": true,
    "scrolled": true
   },
   "outputs": [],
   "source": []
  },
  {
   "cell_type": "markdown",
   "metadata": {},
   "source": [
    "### More on lists! \n",
    "Python has a powerful mechanism for dealing with lists called **slicing**. This technique allows us to access elements of a list. Hint: an 'element' is just an item in a list! \n",
    "\n",
    "Example: `things = ['Plant', 'Book', 'Chair', 'Lamp']`\n",
    "\n",
    "Syntax: \n",
    "``` \n",
    "list_name[index_number]\n",
    "list_name[start:stop]\n",
    "```\n",
    "\n",
    "Have a go at pulling different elements from your list. Try \n",
    "```\n",
    "print(things[0])\n",
    "print(things[1:3])\n",
    "print(things[:3])\n",
    "print(things[-1])\n",
    "```\n",
    "\n",
    "Discuss with the people around you what you get - what's happening here?"
   ]
  },
  {
   "cell_type": "code",
   "execution_count": 69,
   "metadata": {},
   "outputs": [
    {
     "name": "stdout",
     "output_type": "stream",
     "text": [
      "['plant', 'book', 'chair', 'lamp']\n"
     ]
    }
   ],
   "source": [
    "things = ['plant', 'book', 'chair', 'lamp']\n",
    "print(things)"
   ]
  },
  {
   "cell_type": "code",
   "execution_count": 71,
   "metadata": {},
   "outputs": [
    {
     "name": "stdout",
     "output_type": "stream",
     "text": [
      "chair\n"
     ]
    }
   ],
   "source": [
    "print(things[2])"
   ]
  },
  {
   "cell_type": "code",
   "execution_count": 72,
   "metadata": {},
   "outputs": [
    {
     "name": "stdout",
     "output_type": "stream",
     "text": [
      "['book', 'chair']\n"
     ]
    }
   ],
   "source": [
    "print(things[1:3])"
   ]
  },
  {
   "cell_type": "code",
   "execution_count": 73,
   "metadata": {},
   "outputs": [
    {
     "name": "stdout",
     "output_type": "stream",
     "text": [
      "['plant', 'book', 'chair']\n"
     ]
    }
   ],
   "source": [
    "print(things[:3])"
   ]
  },
  {
   "cell_type": "code",
   "execution_count": 74,
   "metadata": {},
   "outputs": [
    {
     "name": "stdout",
     "output_type": "stream",
     "text": [
      "lamp\n"
     ]
    }
   ],
   "source": [
    "print(things[-1])"
   ]
  },
  {
   "cell_type": "markdown",
   "metadata": {},
   "source": [
    "###### Exercise 6\n",
    "\n",
    "1) Have a look at the [documentation on slicing](https://docs.python.org/3/library/functions.html#slice). Can you write an expression that returns only the first three items of a list? What about the last three? Can you find different ways to achieve the same thing?\n",
    "\n",
    "2) We can use this notation to set elements of a list in the same way we defined variables earlier. Try updating the first element of your list of things to be your favourite meal.\n",
    "\n",
    "3) Bonus: can you treat a string as a list using slicing? What works? What doesn't?"
   ]
  },
  {
   "cell_type": "code",
   "execution_count": 77,
   "metadata": {},
   "outputs": [
    {
     "ename": "AttributeError",
     "evalue": "'list' object has no attribute 'slice'",
     "output_type": "error",
     "traceback": [
      "\u001b[1;31m---------------------------------------------------------------------------\u001b[0m",
      "\u001b[1;31mAttributeError\u001b[0m                            Traceback (most recent call last)",
      "\u001b[1;32m<ipython-input-77-a6b6c8dca19b>\u001b[0m in \u001b[0;36m<module>\u001b[1;34m()\u001b[0m\n\u001b[1;32m----> 1\u001b[1;33m \u001b[0mthings\u001b[0m\u001b[1;33m.\u001b[0m\u001b[0mslice\u001b[0m\u001b[1;33m\u001b[0m\u001b[0m\n\u001b[0m",
      "\u001b[1;31mAttributeError\u001b[0m: 'list' object has no attribute 'slice'"
     ]
    }
   ],
   "source": [
    "things.slice"
   ]
  },
  {
   "cell_type": "code",
   "execution_count": 86,
   "metadata": {},
   "outputs": [
    {
     "name": "stdout",
     "output_type": "stream",
     "text": [
      "['plant', 'book', 'chair', 'lamp']\n"
     ]
    }
   ],
   "source": [
    "print(things)"
   ]
  },
  {
   "cell_type": "code",
   "execution_count": 88,
   "metadata": {
    "collapsed": true
   },
   "outputs": [],
   "source": [
    "things[0] = 'coffee'"
   ]
  },
  {
   "cell_type": "code",
   "execution_count": 89,
   "metadata": {},
   "outputs": [
    {
     "name": "stdout",
     "output_type": "stream",
     "text": [
      "['coffee', 'book', 'chair', 'lamp']\n"
     ]
    }
   ],
   "source": [
    "print(things)"
   ]
  },
  {
   "cell_type": "code",
   "execution_count": 90,
   "metadata": {},
   "outputs": [
    {
     "data": {
      "text/plain": [
       "'r@ss, chandler, j@ey, ph@ebe, rachel, m@nica'"
      ]
     },
     "execution_count": 90,
     "metadata": {},
     "output_type": "execute_result"
    }
   ],
   "source": [
    "friends.replace('o','@')"
   ]
  },
  {
   "cell_type": "code",
   "execution_count": 93,
   "metadata": {},
   "outputs": [
    {
     "data": {
      "text/plain": [
       "'ross, chandl!r, jo!y, pho!b!, rach!l, monica'"
      ]
     },
     "execution_count": 93,
     "metadata": {},
     "output_type": "execute_result"
    }
   ],
   "source": [
    "friends.replace('e','!')"
   ]
  },
  {
   "cell_type": "code",
   "execution_count": 97,
   "metadata": {},
   "outputs": [
    {
     "name": "stdout",
     "output_type": "stream",
     "text": [
      "['coffee', 'book', 'chair', 'lamp']\n"
     ]
    }
   ],
   "source": [
    "things.reverse()\n",
    "print(things)"
   ]
  },
  {
   "cell_type": "code",
   "execution_count": 103,
   "metadata": {},
   "outputs": [
    {
     "name": "stdout",
     "output_type": "stream",
     "text": [
      "['coffee', 'book', 'chair']\n"
     ]
    }
   ],
   "source": [
    "print(things[:3])"
   ]
  },
  {
   "cell_type": "markdown",
   "metadata": {},
   "source": [
    "Got some time? You can also call methods on list objects! Have a go at playing with these list methods! Have a go at each one on a list and see what happens. \n",
    "```\n",
    "list.reverse()\n",
    "list.insert(index,item)\n",
    "list.append(item)\n",
    "list.clear()\n",
    "list.count(item)\n",
    "list.pop(item)\n",
    "```\n",
    "\n",
    "As always - the [Python Documentation on lists](https://docs.python.org/3/tutorial/datastructures.html) is super helpful."
   ]
  },
  {
   "cell_type": "code",
   "execution_count": null,
   "metadata": {
    "collapsed": true
   },
   "outputs": [],
   "source": []
  },
  {
   "cell_type": "code",
   "execution_count": null,
   "metadata": {
    "collapsed": true
   },
   "outputs": [],
   "source": []
  },
  {
   "cell_type": "code",
   "execution_count": null,
   "metadata": {
    "collapsed": true
   },
   "outputs": [],
   "source": []
  },
  {
   "cell_type": "code",
   "execution_count": null,
   "metadata": {
    "collapsed": true
   },
   "outputs": [],
   "source": []
  },
  {
   "cell_type": "markdown",
   "metadata": {},
   "source": [
    "### Input and output \n",
    "Recall this line we wrote write at the beginning:\n",
    "\n",
    "`print('My name is ', my_name, \" and my age is ', age)`\n",
    "\n",
    "Instead of *hardcording* the values of `my_name` and `age`, we could make the program more flexible by accepting *input*. \n",
    "\n",
    "As an example, try this code:\n",
    "```\n",
    "your_name = input('What is your name? ')\n",
    "print('Hello', your_name)\n",
    "```"
   ]
  },
  {
   "cell_type": "code",
   "execution_count": 5,
   "metadata": {},
   "outputs": [
    {
     "name": "stdout",
     "output_type": "stream",
     "text": [
      "what is your name?\n",
      "Hello \n"
     ]
    }
   ],
   "source": [
    "name = input('what is your name?')\n",
    "print('Hello', name)"
   ]
  },
  {
   "cell_type": "markdown",
   "metadata": {},
   "source": []
  },
  {
   "cell_type": "code",
   "execution_count": 6,
   "metadata": {},
   "outputs": [
    {
     "name": "stdout",
     "output_type": "stream",
     "text": [
      "what day is it today?Saturday\n",
      "today is, Saturday\n"
     ]
    }
   ],
   "source": [
    "Saturday = input ('what day is it today?')\n",
    "print('today is, Saturday')"
   ]
  },
  {
   "cell_type": "markdown",
   "metadata": {},
   "source": [
    "###### Exercise 7 \n",
    "\n",
    "Have a go at creating a simple program like the lines above, where Python asks for some input, and then prints out that input. It doesn't matter what it asks for, be creative!\n",
    "\n",
    "Challenge: What happens when you try to use integers as well as strings?"
   ]
  },
  {
   "cell_type": "code",
   "execution_count": null,
   "metadata": {
    "collapsed": true
   },
   "outputs": [],
   "source": []
  },
  {
   "cell_type": "code",
   "execution_count": null,
   "metadata": {
    "collapsed": true
   },
   "outputs": [],
   "source": []
  },
  {
   "cell_type": "code",
   "execution_count": null,
   "metadata": {
    "collapsed": true
   },
   "outputs": [],
   "source": []
  },
  {
   "cell_type": "markdown",
   "metadata": {},
   "source": [
    "## Control Structures \n",
    "\n",
    "Control structures allow us to apply decision making into the *flow of execution* \n",
    "\n",
    "### If statements \n",
    "\n",
    "``` \n",
    "if (this condition is) True:\n",
    "    (execute this code)\n",
    "else:\n",
    "    (do this code instead)\n",
    "```\n",
    "\n",
    "Note: the `else:` part is optional!"
   ]
  },
  {
   "cell_type": "code",
   "execution_count": null,
   "metadata": {
    "collapsed": true
   },
   "outputs": [],
   "source": []
  },
  {
   "cell_type": "code",
   "execution_count": 8,
   "metadata": {},
   "outputs": [
    {
     "name": "stdout",
     "output_type": "stream",
     "text": [
      "Get out of this bar.\n"
     ]
    }
   ],
   "source": [
    "# an example\n",
    "your_age = 5\n",
    "\n",
    "if int(your_age) >=18:\n",
    "    print('Enjoy that glass of pinot!')\n",
    "else:\n",
    "    print('Get out of this bar.')"
   ]
  },
  {
   "cell_type": "markdown",
   "metadata": {},
   "source": [
    "###### Exercise 8 \n",
    "Write a program that takes an input of either a or b. Get the program to display 'You're on your way, coding sister!' if `a` is entered, or 'Yeah girl, you got this.' if `b` is entered."
   ]
  },
  {
   "cell_type": "code",
   "execution_count": 21,
   "metadata": {},
   "outputs": [
    {
     "name": "stdout",
     "output_type": "stream",
     "text": [
      "Tell me a letterb\n",
      "Yeah girl, you got this\n"
     ]
    }
   ],
   "source": [
    "answer = (input)(\"Tell me a letter\") \n",
    "\n",
    "if answer == \"a\":\n",
    "    print(\"you're on your way, coding sister!\")\n",
    "else:\n",
    "    print(\"Yeah girl, you got this\")"
   ]
  },
  {
   "cell_type": "markdown",
   "metadata": {},
   "source": [
    "###### Exercise 9 \n",
    "\n",
    "Let's bring it all together! Imagine you are writing a program for an ATM so that people can withdraw money from their account. Follow the steps in the comments below and give it a go! \n"
   ]
  },
  {
   "cell_type": "code",
   "execution_count": null,
   "metadata": {
    "collapsed": true
   },
   "outputs": [],
   "source": [
    "bank_balance = 100\n",
    "\n",
    "### STEP 1\n",
    "# Ask the user how much they would like withrdraw, assign this to a variable called 'withdrawal'\n",
    "# HINT: wrap your input() function with the int() function to avoid an error!\n",
    "\n",
    "### STEP 2\n",
    "# Reassign the bank_balance variable to equal bank_balance minus withdrawal\n",
    "\n",
    "### STEP 3\n",
    "# Use an if statement to check that the bank_balance is not less than zero, \n",
    "# if it is, display the message 'Insufficient funds!'\n",
    "\n",
    "### STEP 4\n",
    "# If it's not less than zero, display the new bank balance "
   ]
  },
  {
   "cell_type": "code",
   "execution_count": null,
   "metadata": {
    "collapsed": true,
    "scrolled": true
   },
   "outputs": [],
   "source": [
    "bank_balance = 100\n",
    "\n",
    "withdrawal = int(input(\"How much money do you want to withdraw?\"))\n",
    "bank_balance = 100 - withdrawal\n",
    "\n",
    "if bank_balance <= 0:\n",
    "    print(\"Insufficient funds!\")\n",
    "    \n",
    "else:\n",
    "    print(\"bank_balance\")\n",
    "    \n"
   ]
  },
  {
   "cell_type": "markdown",
   "metadata": {},
   "source": [
    "\n",
    "### Loops\n",
    "Loops let us perform the same bit of code over and over again! \n",
    "#### For loop\n",
    "\n",
    "```\n",
    "for item in sequence:\n",
    "    execute this code\n",
    "```\n",
    "or\n",
    "\n",
    "```\n",
    "for k in range(0, 10):\n",
    "    print(k)\n",
    "```\n",
    "\n",
    "Note: The `range()` function doesn't create a list of numbers, it returns an *iterator*, which is another type of Python object (never mind right now!). You can turn it into a list by wrapping the `list()` function around it: `list(range(0,10))`"
   ]
  },
  {
   "cell_type": "markdown",
   "metadata": {},
   "source": [
    "###### Exercise 10 \n",
    "\n",
    "1) Define a new variable as a **list** of the names of the people around you, and use a for loop to print out each name in the list. Remember: in Python we use square brackets to define a list!\n",
    "\n",
    "2) Make a list that contains the numbers 0-20. Then make a for loop to iterate over the numbers in the list and print out that number. \n",
    "\n",
    "Bonus! Change your code from the second activity to print out each number in the list multiplied by two. There are a few ways to do this! *Hint* you can use the list() function! "
   ]
  },
  {
   "cell_type": "code",
   "execution_count": null,
   "metadata": {
    "collapsed": true
   },
   "outputs": [],
   "source": []
  },
  {
   "cell_type": "code",
   "execution_count": null,
   "metadata": {
    "collapsed": true
   },
   "outputs": [],
   "source": []
  },
  {
   "cell_type": "markdown",
   "metadata": {},
   "source": [
    "#### While loop\n",
    "\n",
    "Alternatively you can iterate over something *inefinitely*. A while loop will continue to loop until it meets a certain condition.\n",
    "\n",
    "```\n",
    "while (this condition is) True:\n",
    "    (execute this code)\n",
    "```\n",
    "\n",
    "Here, it will just keep going until the condition becomes False. It's important that the condiition will eventually become False, or else it will just keep going! "
   ]
  },
  {
   "cell_type": "code",
   "execution_count": null,
   "metadata": {
    "collapsed": true
   },
   "outputs": [],
   "source": []
  },
  {
   "cell_type": "code",
   "execution_count": null,
   "metadata": {
    "collapsed": true
   },
   "outputs": [],
   "source": []
  },
  {
   "cell_type": "markdown",
   "metadata": {},
   "source": [
    "## Want more? Some useful resouces! \n",
    "\n",
    "\n",
    "[PyLadies Meetup](http://melbourne.pyladies.com/) - Monthly talks about Python in the city \n",
    "\n",
    "[Improve your Python skills](https://dbader.org/python-basics) - Nice blog posts \n",
    "\n",
    "[Weekly Python Chat](http://www.weeklypython.chat/) - Interesting weekly videos of all things Python (it goes back a fair bit so there are loads of things in there) \n",
    "\n",
    "[Talk Python To Me](https://talkpython.fm/) - A podcast about topics in Python\n",
    "\n",
    "\n",
    "[Code Academy](https://www.codecademy.com/) - Free courses in loads of languages\n",
    "\n",
    "[CS50 - Introduction to computer science](https://www.edx.org/course/cs50s-introduction-computer-science-harvardx-cs50x) - If you're super keen!\n",
    "\n",
    "\n"
   ]
  },
  {
   "cell_type": "code",
   "execution_count": null,
   "metadata": {
    "collapsed": true
   },
   "outputs": [],
   "source": []
  },
  {
   "cell_type": "code",
   "execution_count": null,
   "metadata": {
    "collapsed": true
   },
   "outputs": [],
   "source": []
  },
  {
   "cell_type": "markdown",
   "metadata": {},
   "source": [
    "# WELL DONE!"
   ]
  }
 ],
 "metadata": {
  "kernelspec": {
   "display_name": "Python 3",
   "language": "python",
   "name": "python3"
  },
  "language_info": {
   "codemirror_mode": {
    "name": "ipython",
    "version": 3
   },
   "file_extension": ".py",
   "mimetype": "text/x-python",
   "name": "python",
   "nbconvert_exporter": "python",
   "pygments_lexer": "ipython3",
   "version": "3.6.1"
  }
 },
 "nbformat": 4,
 "nbformat_minor": 2
}
